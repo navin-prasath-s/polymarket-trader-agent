{
 "cells": [
  {
   "metadata": {
    "collapsed": true
   },
   "cell_type": "code",
   "source": "from client import Client",
   "id": "initial_id",
   "outputs": [],
   "execution_count": null
  },
  {
   "metadata": {},
   "cell_type": "code",
   "source": [
    "client = Client(url=\"http://127.0.0.1:8000\")\n",
    "client_l1 = Client(url=\"http://127.0.0.1:8000\", l1_key=\"abc\")\n",
    "client_l2 = Client(url=\"http://127.0.0.1:8000\", l2_key=\"def\")\n",
    "client_all = Client(url=\"http://127.0.0.1:8000\", l1_key=\"abc\", l2_key=\"def\")"
   ],
   "id": "3d9b1ce4cc094212",
   "outputs": [],
   "execution_count": null
  },
  {
   "metadata": {},
   "cell_type": "code",
   "source": [
    "# Create a user\n",
    "response = client.create_user(\"pc1\", balance=\"1080.50\")\n",
    "name = response[\"name\"]"
   ],
   "id": "f52bda8a97840eab",
   "outputs": [],
   "execution_count": null
  },
  {
   "metadata": {},
   "cell_type": "code",
   "source": [
    "# Get the user\n",
    "client.get_user(name)"
   ],
   "id": "cb6e6d0e429b53e6",
   "outputs": [],
   "execution_count": null
  },
  {
   "metadata": {},
   "cell_type": "code",
   "source": [
    "# Reset balance - need l1 authorized client\n",
    "client_l1.reset_user_balance(name, \"500.00\")"
   ],
   "id": "cdcef0cf34e2747a",
   "outputs": [],
   "execution_count": null
  },
  {
   "metadata": {},
   "cell_type": "code",
   "source": [
    "# Buy shares\n",
    "client.buy(\n",
    "    user_name=name,\n",
    "    market=\"0xcccb7e7613a087c132b69cbf3a02bece3fdcb824c1da54ae79acc8d4a562d902\",\n",
    "    token=\"8441400852834915183759801017793514978104486628517653995211751018945988243154\",\n",
    "    amount_usdc=\"400.00\"\n",
    ")"
   ],
   "id": "fd59b4f486c40d0e",
   "outputs": [],
   "execution_count": null
  },
  {
   "metadata": {},
   "cell_type": "code",
   "source": [
    "# Sell a shares\n",
    "client.sell(\n",
    "    user_name=name,\n",
    "    market=\"0xcccb7e7613a087c132b69cbf3a02bece3fdcb824c1da54ae79acc8d4a562d902\",\n",
    "    token=\"8441400852834915183759801017793514978104486628517653995211751018945988243154\",\n",
    "    shares=\"1.00\"\n",
    ")"
   ],
   "id": "75e147df0ca0acd2",
   "outputs": [],
   "execution_count": null
  },
  {
   "metadata": {},
   "cell_type": "code",
   "source": [
    "# Get list of all orders\n",
    "client.list_orders()"
   ],
   "id": "c1425347bcf418bb",
   "outputs": [],
   "execution_count": null
  },
  {
   "metadata": {},
   "cell_type": "code",
   "source": [
    "# Get all orders placed by specific client\n",
    "client.list_orders_by_user(name)"
   ],
   "id": "529f673706d01816",
   "outputs": [],
   "execution_count": null
  },
  {
   "metadata": {},
   "cell_type": "code",
   "source": [
    "# Get list of all user positions\n",
    "client.list_positions()"
   ],
   "id": "17b203fc42bd68e2",
   "outputs": [],
   "execution_count": null
  },
  {
   "metadata": {},
   "cell_type": "code",
   "source": [
    "# Get user position by username\n",
    "client.list_positions_by_user(name)"
   ],
   "id": "89f7b417530e8809",
   "outputs": [],
   "execution_count": null
  },
  {
   "metadata": {},
   "cell_type": "code",
   "source": [
    "# Delete all entries in the database - Needs l2 auth\n",
    "client_l2.delete_all_data()"
   ],
   "id": "481ae6863941a300",
   "outputs": [],
   "execution_count": null
  },
  {
   "metadata": {},
   "cell_type": "code",
   "source": [
    "# Arbitrary SQL execution - Needs l2 auth\n",
    "client_l2.exec_sql(\n",
    "    \"SELECT * FROM users\",\n",
    "    limit=100,\n",
    ")\n"
   ],
   "id": "1a81aa54ede0f2a4",
   "outputs": [],
   "execution_count": null
  }
 ],
 "metadata": {
  "kernelspec": {
   "display_name": "Python 3",
   "language": "python",
   "name": "python3"
  },
  "language_info": {
   "codemirror_mode": {
    "name": "ipython",
    "version": 2
   },
   "file_extension": ".py",
   "mimetype": "text/x-python",
   "name": "python",
   "nbconvert_exporter": "python",
   "pygments_lexer": "ipython2",
   "version": "2.7.6"
  }
 },
 "nbformat": 4,
 "nbformat_minor": 5
}
